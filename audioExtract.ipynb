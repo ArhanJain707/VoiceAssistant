{
 "cells": [
  {
   "cell_type": "code",
   "execution_count": null,
   "metadata": {},
   "outputs": [
    {
     "name": "stdout",
     "output_type": "stream",
     "text": [
      "{'video_found': True, 'audio_found': True, 'metadata': {'major_brand': 'isom', 'minor_version': '512', 'compatible_brands': 'isomiso2avc1mp41', 'encoder': 'https://clipchamp.com', 'comment': 'Create videos with https://clipchamp.com/en/video-editor - free online video editor, video compressor, video converter.'}, 'inputs': [{'streams': [{'input_number': 0, 'stream_number': 0, 'stream_type': 'video', 'language': None, 'default': True, 'size': [1920, 1080], 'bitrate': 8915, 'fps': 30.0, 'codec_name': 'h264', 'profile': '(Main)', 'metadata': {'handler_name': 'VideoHandler'}}, {'input_number': 0, 'stream_number': 1, 'stream_type': 'audio', 'language': None, 'default': True, 'fps': 48000, 'bitrate': 192, 'metadata': {'handler_name': 'SoundHandler'}}], 'input_number': 0}], 'duration': 72.83, 'bitrate': 9111, 'start': 0.0, 'default_video_input_number': 0, 'default_video_stream_number': 0, 'video_codec_name': 'h264', 'video_profile': '(Main)', 'video_size': [1920, 1080], 'video_bitrate': 8915, 'video_fps': 30.0, 'default_audio_input_number': 0, 'default_audio_stream_number': 1, 'audio_fps': 48000, 'audio_bitrate': 192, 'video_duration': 72.83, 'video_n_frames': 2184}\n",
      "c:\\Users\\HP\\anaconda3\\envs\\AILearning\\Lib\\site-packages\\imageio_ffmpeg\\binaries\\ffmpeg-win64-v4.2.2.exe -i TestHTTYD.mp4 -loglevel error -f image2pipe -vf scale=1920:1080 -sws_flags bicubic -pix_fmt rgb24 -vcodec rawvideo -\n",
      "MoviePy - Writing audio in audioextract.mp3\n"
     ]
    },
    {
     "name": "stderr",
     "output_type": "stream",
     "text": [
      "                                                                      \r"
     ]
    },
    {
     "name": "stdout",
     "output_type": "stream",
     "text": [
      "MoviePy - Done.\n"
     ]
    },
    {
     "name": "stderr",
     "output_type": "stream",
     "text": [
      "Device set to use cuda:0\n",
      "c:\\Users\\HP\\anaconda3\\envs\\AILearning\\Lib\\site-packages\\transformers\\models\\whisper\\generation_whisper.py:573: FutureWarning: The input name `inputs` is deprecated. Please make sure to use `input_features` instead.\n",
      "  warnings.warn(\n"
     ]
    },
    {
     "name": "stdout",
     "output_type": "stream",
     "text": [
      "[{'timestamp': (0.0, 4.14), 'text': ' Advocations. Strike class, fear class, mystery class.'}, {'timestamp': (5.34, 9.88), 'text': ' Thunderdrum. This reclusive dragon inhabits sea caves and dark tide pools.'}, {'timestamp': (10.42, 15.02), 'text': ' When startled, the thunderdrum produces a concussive sound that can kill a man at close range.'}, {'timestamp': (15.48, 17.56), 'text': ' Extremely dangerous. Kill on sight.'}, {'timestamp': (18.52, 24.1), 'text': ' Timberjack. This gigantic creature has razor-sharp wings that can slice through full-grown trees.'}, {'timestamp': (24.54, 26.64), 'text': ' Extremely dangerous. Kill on sight.'}, {'timestamp': (27.94, 0.0), 'text': ''}, {'timestamp': (5.94, 11.52), 'text': ' Scaldron. Sprays scalding water at its victim. Extremely dangerous.'}, {'timestamp': (15.62, 16.28), 'text': ' Changeway. Even newly hatched dragons can spray acid. Kill on sight.'}, {'timestamp': (22.82, 24.36), 'text': ' Gronkle. Zippelback. The Skrill. Bone Napper. Whispering death.'}, {'timestamp': (0.0, 6.68), 'text': ' burns its victims, buries its victims, chokes its victims, turns its victims inside out.'}, {'timestamp': (7.22, 12.96), 'text': ' Extremely dangerous, extremely dangerous. Kill on sight, kill on sight, kill on sight.'}, {'timestamp': (15.22, 23.32), 'text': ' Night fury. Speed unknown, size unknown. The unholy offspring.'}]\n",
      " Advocations. Strike class, fear class, mystery class. Thunderdrum. This reclusive dragon inhabits sea caves and dark tide pools. When startled, the thunderdrum produces a concussive sound that can kill a man at close range. Extremely dangerous. Kill on sight. Timberjack. This gigantic creature has razor-sharp wings that can slice through full-grown trees. Extremely dangerous. Kill on sight. Scaldron. Sprays scalding water at its victim. Extremely dangerous. Changeway. Even newly hatched dragons can spray acid. Kill on sight. Gronkle. Zippelback. The Skrill. Bone Napper. Whispering death. burns its victims, buries its victims, chokes its victims, turns its victims inside out. Extremely dangerous, extremely dangerous. Kill on sight, kill on sight, kill on sight. Night fury. Speed unknown, size unknown. The unholy offspring.\n"
     ]
    }
   ],
   "source": [
    "def AudioExtract(vid):\n",
    "    from moviepy.video.io.VideoFileClip import VideoFileClip\n",
    "    video = VideoFileClip(vid)\n",
    "    audio = video.audio\n",
    "    audio.write_audiofile(\"audioextract.mp3\")\n",
    "    \n",
    "    import torch\n",
    "    from transformers import AutoModelForSpeechSeq2Seq, AutoProcessor, pipeline\n",
    "    from datasets import load_dataset\n",
    "\n",
    "\n",
    "    device = \"cuda:0\" if torch.cuda.is_available() else \"cpu\"\n",
    "    torch_dtype = torch.float16 if torch.cuda.is_available() else torch.float32\n",
    "\n",
    "    model_id = \"openai/whisper-large-v3-turbo\"\n",
    "\n",
    "    model = AutoModelForSpeechSeq2Seq.from_pretrained(model_id, torch_dtype=torch_dtype, low_cpu_mem_usage=True, use_safetensors=True)\n",
    "    model.to(device)\n",
    "\n",
    "    processor = AutoProcessor.from_pretrained(model_id)\n",
    "\n",
    "    pipe = pipeline(\n",
    "        \"automatic-speech-recognition\",\n",
    "        model=model,\n",
    "        tokenizer=processor.tokenizer,\n",
    "        feature_extractor=processor.feature_extractor,\n",
    "        torch_dtype=torch_dtype,\n",
    "        device=device,)\n",
    "\n",
    "    dataset = load_dataset(\"distil-whisper/librispeech_long\", \"clean\", split=\"validation\")\n",
    "    result = pipe(\"audioextract.mp3\", return_timestamps=\"words\")\n",
    "    # print(result[\"chunks\"])\n",
    "    # print(result[\"text\"])\n",
    "    return result[\"text\"]\n",
    "\n",
    "AudioExtract(\"TestHTTYD.mp4\")"
   ]
  }
 ],
 "metadata": {
  "kernelspec": {
   "display_name": "AILearning",
   "language": "python",
   "name": "python3"
  },
  "language_info": {
   "codemirror_mode": {
    "name": "ipython",
    "version": 3
   },
   "file_extension": ".py",
   "mimetype": "text/x-python",
   "name": "python",
   "nbconvert_exporter": "python",
   "pygments_lexer": "ipython3",
   "version": "3.11.10"
  }
 },
 "nbformat": 4,
 "nbformat_minor": 2
}
